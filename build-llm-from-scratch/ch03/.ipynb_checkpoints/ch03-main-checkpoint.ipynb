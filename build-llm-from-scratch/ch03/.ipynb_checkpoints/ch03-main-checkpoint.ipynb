{
 "cells": [
  {
   "cell_type": "markdown",
   "id": "0d26a832-a17c-4908-b6c5-897870e263ff",
   "metadata": {},
   "source": [
    "Source: https://github.com/rasbt/LLMs-from-scratch/blob/main/ch03/01_main-chapter-code/ch03.ipynb"
   ]
  },
  {
   "cell_type": "markdown",
   "id": "0c2844cd-fa10-4230-9614-08cea6f290bb",
   "metadata": {},
   "source": [
    "## Chapter 3: Coding Attention Mechanisms"
   ]
  },
  {
   "cell_type": "code",
   "execution_count": 15,
   "id": "f65564c6-368f-4085-b65b-29bff7bc6ab6",
   "metadata": {},
   "outputs": [
    {
     "name": "stdout",
     "output_type": "stream",
     "text": [
      "torch version: 2.7.0\n"
     ]
    }
   ],
   "source": [
    "from importlib.metadata import version\n",
    "import torch\n",
    "\n",
    "print(\"torch version:\", version(\"torch\"))"
   ]
  },
  {
   "cell_type": "markdown",
   "id": "09c6769d-e17c-44f4-ac65-f53ff1f3d622",
   "metadata": {},
   "source": [
    "## 3.3 Attending to different parts of the input with self-attention"
   ]
  },
  {
   "cell_type": "markdown",
   "id": "76702c7f-866e-4efa-8e60-77db82a1ac34",
   "metadata": {},
   "source": [
    "### 3.3.1 A simple self-attention mechanism without trainable weights"
   ]
  },
  {
   "cell_type": "markdown",
   "id": "d0a6a918-449e-4aba-b080-ca5f17221a56",
   "metadata": {},
   "source": [
    "- Suppose we have an input sequence x_1 to x_T: \" \"Your journey starts with one step\"\n",
    "- Here, x_1=\"Your\".\n",
    "- Goal: compute contex vector z_i for each input sequence element x_i (where z and x have same dimension)\n",
    "- For example, let's find z_2 (context vector for the word \"journey\")\n",
    "- __We can think of z_2 as a modified version of x_2 that also incorporates information about all other input elements that are erelevant__"
   ]
  },
  {
   "cell_type": "markdown",
   "id": "e60a0039-2c15-4db8-9d63-48b8ebb10b8f",
   "metadata": {},
   "source": [
    "Terminology:\n",
    "- __Attention scores__: unnormalized attention weights\n",
    "- __Attention weights__: he normalized attention scores, which sum to 1"
   ]
  },
  {
   "cell_type": "markdown",
   "id": "d883273f-9079-48b6-9a7c-95c7b39bd20d",
   "metadata": {},
   "source": [
    "__Step 1__: Compute unnormalized attention weights"
   ]
  },
  {
   "cell_type": "markdown",
   "id": "c0c1636c-df24-4277-8bf1-42dd54d5966b",
   "metadata": {},
   "source": [
    "Suppose we have the following input sentence that is already embedded in 3-dimensional vectors:"
   ]
  },
  {
   "cell_type": "code",
   "execution_count": 4,
   "id": "86d82f75-fe2a-4a27-81cc-5922a6753e6c",
   "metadata": {},
   "outputs": [],
   "source": [
    "inputs = torch.tensor(\n",
    "  [[0.43, 0.15, 0.89], # Your     (x^1)\n",
    "   [0.55, 0.87, 0.66], # journey  (x^2)\n",
    "   [0.57, 0.85, 0.64], # starts   (x^3)\n",
    "   [0.22, 0.58, 0.33], # with     (x^4)\n",
    "   [0.77, 0.25, 0.10], # one      (x^5)\n",
    "   [0.05, 0.80, 0.55]] # step     (x^6)\n",
    ")"
   ]
  },
  {
   "cell_type": "code",
   "execution_count": 8,
   "id": "1656abbd-fd89-43de-8feb-a4399dadb6f2",
   "metadata": {},
   "outputs": [
    {
     "name": "stdout",
     "output_type": "stream",
     "text": [
      "tensor([0.9544, 1.4950, 1.4754, 0.8434, 0.7070, 1.0865])\n"
     ]
    }
   ],
   "source": [
    "# let's focus on the query x_2\n",
    "query = inputs[1]\n",
    "\n",
    "attn_scores_2 = torch.empty(inputs.shape[0])\n",
    "for i, x_i in enumerate(inputs):\n",
    "    attn_scores_2[i] = torch.dot(x_i, query) # dot product (transpose not necessary here since they are 1-dim vectors)\n",
    "\n",
    "print(attn_scores_2)"
   ]
  },
  {
   "cell_type": "markdown",
   "id": "5e21db5a-b600-4909-bb91-5a7f1ed94ae4",
   "metadata": {},
   "source": [
    "__Step 2__: Normalize the unnormalized attention scores (\"omegas\", \n",
    ") so that they sum up to 1\n",
    "- We can use the softmax function for normalization, which is better at handling extreme values and has more desirable gradient properties during training, is common and recommended."
   ]
  },
  {
   "cell_type": "code",
   "execution_count": 9,
   "id": "cb87f75e-48f9-4db0-b591-7d476e4fc6cb",
   "metadata": {},
   "outputs": [
    {
     "name": "stdout",
     "output_type": "stream",
     "text": [
      "Attention weights: tensor([0.1385, 0.2379, 0.2333, 0.1240, 0.1082, 0.1581])\n",
      "Sum: tensor(1.)\n"
     ]
    }
   ],
   "source": [
    "attn_weights_2 = torch.softmax(attn_scores_2, dim=0)\n",
    "\n",
    "print(\"Attention weights:\", attn_weights_2)\n",
    "print(\"Sum:\", attn_weights_2.sum())"
   ]
  },
  {
   "cell_type": "markdown",
   "id": "bd5d7307-1006-433e-839e-46811dadbe62",
   "metadata": {},
   "source": [
    "__Step 3__: Compute the context vector by multiplying the embedded input tokens, with the attention weights and sum the resulting vectors:"
   ]
  },
  {
   "cell_type": "code",
   "execution_count": 10,
   "id": "a8a42cfc-3ae3-417c-b5a7-f60842b0114b",
   "metadata": {},
   "outputs": [
    {
     "name": "stdout",
     "output_type": "stream",
     "text": [
      "tensor([0.4419, 0.6515, 0.5683])\n"
     ]
    }
   ],
   "source": [
    "query = inputs[1]\n",
    "\n",
    "context_vec_2 = torch.zeros(query.shape)\n",
    "for i, x_i in enumerate(inputs):\n",
    "    context_vec_2 += attn_weights_2[i] * x_i\n",
    "\n",
    "print(context_vec_2)"
   ]
  },
  {
   "cell_type": "markdown",
   "id": "358c13d5-01d0-4fba-9773-015512558c5f",
   "metadata": {},
   "source": [
    "### 3.3.2 Computing attention weights for all input tokens"
   ]
  },
  {
   "cell_type": "markdown",
   "id": "0d1ddc2f-ffd5-40b7-8c50-7f478def8cc6",
   "metadata": {},
   "source": [
    "- Previously, we computed the attention weights for x_2. Let's generelize it for all x_i."
   ]
  },
  {
   "cell_type": "markdown",
   "id": "c47a2c50-d0bd-4ecf-8d26-d8cb28f4f8c1",
   "metadata": {},
   "source": [
    "__Step 1__ Apply previous step 1 to all pairwise elements to compute the unnormalized attention score matrix:"
   ]
  },
  {
   "cell_type": "code",
   "execution_count": 11,
   "id": "d9ea2d90-f6c8-44fa-a641-b51b1417bbc9",
   "metadata": {},
   "outputs": [
    {
     "name": "stdout",
     "output_type": "stream",
     "text": [
      "tensor([[0.9995, 0.9544, 0.9422, 0.4753, 0.4576, 0.6310],\n",
      "        [0.9544, 1.4950, 1.4754, 0.8434, 0.7070, 1.0865],\n",
      "        [0.9422, 1.4754, 1.4570, 0.8296, 0.7154, 1.0605],\n",
      "        [0.4753, 0.8434, 0.8296, 0.4937, 0.3474, 0.6565],\n",
      "        [0.4576, 0.7070, 0.7154, 0.3474, 0.6654, 0.2935],\n",
      "        [0.6310, 1.0865, 1.0605, 0.6565, 0.2935, 0.9450]])\n"
     ]
    }
   ],
   "source": [
    "attn_scores = torch.empty(6, 6)\n",
    "\n",
    "for i, x_i in enumerate(inputs):\n",
    "    for j, x_j in enumerate(inputs):\n",
    "        attn_scores[i, j] = torch.dot(x_i, x_j)\n",
    "\n",
    "print(attn_scores)"
   ]
  },
  {
   "cell_type": "markdown",
   "id": "36b0e52a-b8fe-4a2b-be15-b98c7a423ba1",
   "metadata": {},
   "source": [
    "Actually, we can achieve the same as above more efficiently view __matrix multiplication__"
   ]
  },
  {
   "cell_type": "code",
   "execution_count": 12,
   "id": "4595e2ef-7b13-4439-9772-d84eb8567970",
   "metadata": {},
   "outputs": [
    {
     "name": "stdout",
     "output_type": "stream",
     "text": [
      "tensor([[0.9995, 0.9544, 0.9422, 0.4753, 0.4576, 0.6310],\n",
      "        [0.9544, 1.4950, 1.4754, 0.8434, 0.7070, 1.0865],\n",
      "        [0.9422, 1.4754, 1.4570, 0.8296, 0.7154, 1.0605],\n",
      "        [0.4753, 0.8434, 0.8296, 0.4937, 0.3474, 0.6565],\n",
      "        [0.4576, 0.7070, 0.7154, 0.3474, 0.6654, 0.2935],\n",
      "        [0.6310, 1.0865, 1.0605, 0.6565, 0.2935, 0.9450]])\n"
     ]
    }
   ],
   "source": [
    "attn_scores = inputs @ inputs.T\n",
    "print(attn_scores)"
   ]
  },
  {
   "cell_type": "markdown",
   "id": "b547b90a-bf36-45a9-8642-4ffa605a518e",
   "metadata": {},
   "source": [
    "__Step 2__ Normalize each row so that the values in each row sum to 1"
   ]
  },
  {
   "cell_type": "code",
   "execution_count": 13,
   "id": "f7b16b79-8533-4fb1-99aa-5b9b308e84d3",
   "metadata": {},
   "outputs": [
    {
     "name": "stdout",
     "output_type": "stream",
     "text": [
      "tensor([[0.2098, 0.2006, 0.1981, 0.1242, 0.1220, 0.1452],\n",
      "        [0.1385, 0.2379, 0.2333, 0.1240, 0.1082, 0.1581],\n",
      "        [0.1390, 0.2369, 0.2326, 0.1242, 0.1108, 0.1565],\n",
      "        [0.1435, 0.2074, 0.2046, 0.1462, 0.1263, 0.1720],\n",
      "        [0.1526, 0.1958, 0.1975, 0.1367, 0.1879, 0.1295],\n",
      "        [0.1385, 0.2184, 0.2128, 0.1420, 0.0988, 0.1896]])\n"
     ]
    }
   ],
   "source": [
    "attn_weights = torch.softmax(attn_scores, dim=1)\n",
    "print(attn_weights)"
   ]
  },
  {
   "cell_type": "markdown",
   "id": "020bd621-0c2b-4b24-ad59-352ed4e155ad",
   "metadata": {},
   "source": [
    "__Step 3__ Compute all the context vectors"
   ]
  },
  {
   "cell_type": "code",
   "execution_count": 14,
   "id": "6b1898ef-165f-465e-b1e1-f00111a6754b",
   "metadata": {},
   "outputs": [
    {
     "name": "stdout",
     "output_type": "stream",
     "text": [
      "tensor([[0.4421, 0.5931, 0.5790],\n",
      "        [0.4419, 0.6515, 0.5683],\n",
      "        [0.4431, 0.6496, 0.5671],\n",
      "        [0.4304, 0.6298, 0.5510],\n",
      "        [0.4671, 0.5910, 0.5266],\n",
      "        [0.4177, 0.6503, 0.5645]])\n"
     ]
    }
   ],
   "source": [
    "all_context_vecs = attn_weights @ inputs\n",
    "print(all_context_vecs)"
   ]
  },
  {
   "cell_type": "markdown",
   "id": "7492039a-5d6f-417c-90b0-abd806a9791e",
   "metadata": {},
   "source": [
    "## 3.4 Implementing self-attention with trainable weights\n"
   ]
  },
  {
   "cell_type": "markdown",
   "id": "24d3264d-e4ab-45fc-83fe-980f76a173a4",
   "metadata": {},
   "source": [
    "### 3.4.1 Computing the attention weights step by step"
   ]
  },
  {
   "cell_type": "code",
   "execution_count": null,
   "id": "4f9192d2-695d-4d22-a1a8-eb4cebb3eb65",
   "metadata": {},
   "outputs": [],
   "source": []
  }
 ],
 "metadata": {
  "kernelspec": {
   "display_name": "Python 3 (ipykernel)",
   "language": "python",
   "name": "python3"
  },
  "language_info": {
   "codemirror_mode": {
    "name": "ipython",
    "version": 3
   },
   "file_extension": ".py",
   "mimetype": "text/x-python",
   "name": "python",
   "nbconvert_exporter": "python",
   "pygments_lexer": "ipython3",
   "version": "3.9.17"
  }
 },
 "nbformat": 4,
 "nbformat_minor": 5
}
