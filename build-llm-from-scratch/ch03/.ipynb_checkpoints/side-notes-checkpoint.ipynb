{
 "cells": [
  {
   "cell_type": "markdown",
   "id": "a8875a36-32e1-47ae-bb21-829195020f40",
   "metadata": {},
   "source": [
    "### A. Simple self-attention mechanism without trainable weights\n"
   ]
  },
  {
   "cell_type": "code",
   "execution_count": 3,
   "id": "11060b0a-35d3-47e2-9749-9564e7cbf868",
   "metadata": {},
   "outputs": [],
   "source": [
    "import torch\n",
    "\n",
    "inputs = torch.tensor(\n",
    "  [[0.43, 0.15, 0.89], # Your     (x^1)\n",
    "   [0.55, 0.87, 0.66], # journey  (x^2)\n",
    "   [0.57, 0.85, 0.64], # starts   (x^3)\n",
    "   [0.22, 0.58, 0.33], # with     (x^4)\n",
    "   [0.77, 0.25, 0.10], # one      (x^5)\n",
    "   [0.05, 0.80, 0.55]] # step     (x^6)\n",
    ")"
   ]
  },
  {
   "cell_type": "markdown",
   "id": "9a3dcaa5-fcfb-4aea-9f9c-e991bf58300d",
   "metadata": {},
   "source": [
    "__A.1 Step 1: compute unnormalized attention scores__ "
   ]
  },
  {
   "cell_type": "code",
   "execution_count": 4,
   "id": "c4a96125-d0cd-4c55-af42-bcd973c8f7e3",
   "metadata": {},
   "outputs": [
    {
     "name": "stdout",
     "output_type": "stream",
     "text": [
      "tensor([0.9544, 1.4950, 1.4754, 0.8434, 0.7070, 1.0865])\n"
     ]
    }
   ],
   "source": [
    "query = inputs[1]  # 2nd input token is the query, as an example\n",
    "attn_scores_2 = torch.empty(inputs.shape[0])\n",
    "for i, x_i in enumerate(inputs):\n",
    "    attn_scores_2[i] = torch.dot(x_i, query) # dot product (transpose not necessary here since they are 1-dim vectors)\n",
    "\n",
    "print(attn_scores_2)"
   ]
  },
  {
   "cell_type": "markdown",
   "id": "a82e44da-d4b1-4295-925c-d9091b59ec17",
   "metadata": {},
   "source": [
    "__A.2 Step 2: compute unnormalized attention scores Normalize using softmax__"
   ]
  },
  {
   "cell_type": "code",
   "execution_count": 15,
   "id": "378da213-fc51-4108-81fc-6fc954788c3a",
   "metadata": {},
   "outputs": [
    {
     "name": "stdout",
     "output_type": "stream",
     "text": [
      "Attention weights: tensor([0.1385, 0.2379, 0.2333, 0.1240, 0.1082, 0.1581])\n",
      "Sum: tensor(1.)\n"
     ]
    }
   ],
   "source": [
    "attn_weights_2 = torch.softmax(attn_scores_2, dim=0)\n",
    "\n",
    "print(\"Attention weights:\", attn_weights_2)\n",
    "print(\"Sum:\", attn_weights_2.sum()) # they will sum up to 1"
   ]
  },
  {
   "cell_type": "markdown",
   "id": "8c8a6aab-eb1f-442b-84c8-6b513cb03e76",
   "metadata": {},
   "source": [
    "__A.3 Step 3: compute the context vector by multiplying the embedded input tokens, with the attention weights and sum the resulting vectors:__"
   ]
  },
  {
   "cell_type": "code",
   "execution_count": 16,
   "id": "0a509ea4-d723-4412-9452-836cfe3fd2b7",
   "metadata": {},
   "outputs": [
    {
     "name": "stdout",
     "output_type": "stream",
     "text": [
      "tensor([0.4419, 0.6515, 0.5683])\n"
     ]
    }
   ],
   "source": [
    "query = inputs[1] # 2nd input token is the query\n",
    "\n",
    "context_vec_2 = torch.zeros(query.shape)\n",
    "for i,x_i in enumerate(inputs):\n",
    "    context_vec_2 += attn_weights_2[i]*x_i\n",
    "\n",
    "print(context_vec_2)"
   ]
  },
  {
   "cell_type": "markdown",
   "id": "8ffe41c9-9ea5-4545-8bd7-9c47d059bbc5",
   "metadata": {},
   "source": [
    "### B. Computing attention weights for all input tokens"
   ]
  },
  {
   "cell_type": "code",
   "execution_count": null,
   "id": "831ae8f0-d0ab-48cb-bebb-bffd732d15dd",
   "metadata": {},
   "outputs": [],
   "source": []
  }
 ],
 "metadata": {
  "kernelspec": {
   "display_name": "Python 3 (ipykernel)",
   "language": "python",
   "name": "python3"
  },
  "language_info": {
   "codemirror_mode": {
    "name": "ipython",
    "version": 3
   },
   "file_extension": ".py",
   "mimetype": "text/x-python",
   "name": "python",
   "nbconvert_exporter": "python",
   "pygments_lexer": "ipython3",
   "version": "3.9.17"
  }
 },
 "nbformat": 4,
 "nbformat_minor": 5
}
