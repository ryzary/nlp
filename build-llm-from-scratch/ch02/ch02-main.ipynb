{
 "cells": [
  {
   "cell_type": "markdown",
   "id": "51867f3f-7e61-450e-b15b-fa7005337545",
   "metadata": {},
   "source": [
    "## Ch.2 Working with Text Data"
   ]
  },
  {
   "cell_type": "markdown",
   "id": "a51b9227-b46e-48bb-a62b-1f5d2fdb49ac",
   "metadata": {},
   "source": [
    "- The full notebook can be accessed via: https://github.com/rasbt/LLMs-from-scratch/blob/main/ch02/01_main-chapter-code/ch02.ipynb"
   ]
  },
  {
   "cell_type": "code",
   "execution_count": 7,
   "id": "b6260b4e-1eb8-4e7f-bd19-ab49065cbf23",
   "metadata": {},
   "outputs": [],
   "source": [
    "import re"
   ]
  },
  {
   "cell_type": "markdown",
   "id": "31bb8b3a-ca24-4adf-8dd6-ad16b35a13ac",
   "metadata": {},
   "source": [
    "### 1. Load Data"
   ]
  },
  {
   "cell_type": "code",
   "execution_count": 4,
   "id": "b773e94d-6603-412e-a557-c5d70f4615b2",
   "metadata": {},
   "outputs": [
    {
     "name": "stdout",
     "output_type": "stream",
     "text": [
      "Total num of character:  20479\n",
      "I HAD always thought Jack Gisburn rather a cheap genius--though a good fellow enough--so it was no \n"
     ]
    }
   ],
   "source": [
    "with open(\"the-verdict.txt\", \"r\", encoding=\"utf-8\") as f:\n",
    "    raw_text = f.read()\n",
    "\n",
    "print(\"Total num of character: \", len(raw_text))\n",
    "print(raw_text[:99])"
   ]
  },
  {
   "cell_type": "markdown",
   "id": "1b7a511b-0faf-4b98-b714-876876ddbecd",
   "metadata": {},
   "source": [
    "### 2. Vocabulary"
   ]
  },
  {
   "cell_type": "markdown",
   "id": "6e9d7930-0dac-414f-b768-61c35a07f47f",
   "metadata": {},
   "source": [
    "- A vocabulary is the set of all possible tokens that the model can recognize and process.\n",
    "- Let's construct a vocabulary by creating a dictionary with unique tokens as the keys and Token IDs as the values"
   ]
  },
  {
   "cell_type": "code",
   "execution_count": 19,
   "id": "80831afc-131d-4446-8066-f5f91bbb5dbe",
   "metadata": {},
   "outputs": [
    {
     "name": "stdout",
     "output_type": "stream",
     "text": [
      "['I', 'HAD', 'always', 'thought', 'Jack', 'Gisburn', 'rather', 'a', 'cheap', 'genius', '--', 'though', 'a', 'good', 'fellow', 'enough', '--', 'so', 'it', 'was', 'no', 'great', 'surprise', 'to', 'me', 'to', 'hear', 'that', ',', 'in']\n"
     ]
    }
   ],
   "source": [
    "# Tokenize\n",
    "preprocessed = re.split(r'([,.:;?_!\"()\\']|--|\\s)', raw_text)\n",
    "preprocessed = [item.strip() for item in preprocessed if item.strip()]\n",
    "print(preprocessed[:30])"
   ]
  },
  {
   "cell_type": "code",
   "execution_count": 22,
   "id": "1e76d031-fd58-4dd6-b67c-8c65e822b4ee",
   "metadata": {},
   "outputs": [
    {
     "name": "stdout",
     "output_type": "stream",
     "text": [
      "Vocab size:  1130\n"
     ]
    }
   ],
   "source": [
    "# create a vocabulary\n",
    "all_words = sorted(set(preprocessed)) # sorted list of unique words\n",
    "vocab_size = len(all_words)\n",
    "\n",
    "print(\"Vocab size: \", vocab_size)\n",
    "\n",
    "vocab = {token: integer for integer,token in enumerate(all_words)}"
   ]
  },
  {
   "cell_type": "code",
   "execution_count": 23,
   "id": "ed0bb594-4959-4b23-9ea5-4c3dd6103f77",
   "metadata": {},
   "outputs": [
    {
     "name": "stdout",
     "output_type": "stream",
     "text": [
      "('!', 0)\n",
      "('\"', 1)\n",
      "(\"'\", 2)\n",
      "('(', 3)\n",
      "(')', 4)\n",
      "(',', 5)\n"
     ]
    }
   ],
   "source": [
    "for i,item in enumerate(vocab.items()):\n",
    "    print(item)\n",
    "    if i >= 5:\n",
    "        break # print only the first 5 entries"
   ]
  },
  {
   "cell_type": "markdown",
   "id": "c08a2b43-1550-4f38-b6d0-f44c805f36a8",
   "metadata": {},
   "source": [
    "### 3. SimpleTokenizer"
   ]
  },
  {
   "cell_type": "code",
   "execution_count": 24,
   "id": "983d3ed4-a9fd-4286-9255-2ab71327311f",
   "metadata": {},
   "outputs": [],
   "source": [
    "class SimpleTokenizer:\n",
    "    def __init__(self, vocab):\n",
    "        self.str_to_int = vocab\n",
    "        self.int_to_str = { i:s for s,i in vocab.items()}\n",
    "    \n",
    "    def encode(self, text):\n",
    "        preprocessed = re.split(r'([,.:;?_!\"()\\']|--|\\s)', text)\n",
    "        preprocessed = [item.strip() for item in preprocessed if item.strip()]\n",
    "        preprocessed = [\n",
    "            item if item in self.str_to_int \n",
    "            else \"<|unk|>\" for item in preprocessed # <|unk|> is for unknown token\n",
    "        ]\n",
    "\n",
    "        ids = [self.str_to_int[s] for s in preprocessed]\n",
    "        return ids\n",
    "        \n",
    "    def decode(self, ids):\n",
    "        text = \" \".join([self.int_to_str[i] for i in ids])\n",
    "        # Replace spaces before the specified punctuations\n",
    "        text = re.sub(r'\\s+([,.:;?!\"()\\'])', r'\\1', text)\n",
    "        return text"
   ]
  },
  {
   "cell_type": "code",
   "execution_count": 25,
   "id": "492ff9a0-d882-4dbd-bde8-781df1170175",
   "metadata": {},
   "outputs": [],
   "source": [
    "tokenizer = SimpleTokenizer(vocab)"
   ]
  },
  {
   "cell_type": "code",
   "execution_count": 26,
   "id": "7cf7d5e7-1e62-4170-8a81-de5f1cc0cfb0",
   "metadata": {},
   "outputs": [
    {
     "name": "stdout",
     "output_type": "stream",
     "text": [
      "[1, 56, 2, 850, 988, 602, 533, 746, 5, 1126, 596, 5, 1, 67, 7, 38, 851, 1108, 754, 793, 7]\n"
     ]
    }
   ],
   "source": [
    "text = \"\"\"\"It's the last he painted, you know,\" \n",
    "           Mrs. Gisburn said with pardonable pride.\"\"\"\n",
    "ids = tokenizer.encode(text)\n",
    "print(ids)"
   ]
  },
  {
   "cell_type": "markdown",
   "id": "fecae719-8a9e-43ad-af2b-8e3fbcc39e20",
   "metadata": {},
   "source": [
    "## 4. BytePair Encoding"
   ]
  },
  {
   "cell_type": "markdown",
   "id": "f37bd64c-3176-4259-b10a-c9a6e08c3a53",
   "metadata": {},
   "source": [
    "- GPT-2 used BytePair encoding (BPE) as its tokenizer\n",
    "- It allows the model to break down words that aren't in its predefined vocabulary into smaller subword units or even individual characters, enabling it to handle out-of-vocabulary words"
   ]
  },
  {
   "cell_type": "code",
   "execution_count": null,
   "id": "8b32a29e-f0f7-45cf-bcac-7f281e89ea8c",
   "metadata": {},
   "outputs": [],
   "source": []
  }
 ],
 "metadata": {
  "kernelspec": {
   "display_name": "Python 3 (ipykernel)",
   "language": "python",
   "name": "python3"
  },
  "language_info": {
   "codemirror_mode": {
    "name": "ipython",
    "version": 3
   },
   "file_extension": ".py",
   "mimetype": "text/x-python",
   "name": "python",
   "nbconvert_exporter": "python",
   "pygments_lexer": "ipython3",
   "version": "3.9.17"
  }
 },
 "nbformat": 4,
 "nbformat_minor": 5
}
